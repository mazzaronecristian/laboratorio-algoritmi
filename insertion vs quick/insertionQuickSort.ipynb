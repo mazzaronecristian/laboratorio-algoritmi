{
 "cells": [
  {
   "attachments": {},
   "cell_type": "markdown",
   "metadata": {},
   "source": [
    "# Contronto tra Insertion sort e Quick sort\n",
    "***\n",
    "## Introduzione\n",
    "\n",
    "In questo notebook andremo a confrontare due algoritmi di ordinamento: L'**inserion sort** e il **quick sort**. Per farlo andremo a effettuare vari test per capire quale dei due algoritmi sia più efficiente, dal punto di vista di:\n",
    "\n",
    "- Tempo di esecuzione\n",
    "- Spazio di memoria utilizzato\n",
    "- Stabilità\n",
    "\n",
    "per la realizzazione dei test, utilizzeremo i seguenti moduli:"
   ]
  },
  {
   "cell_type": "code",
   "execution_count": 2,
   "metadata": {},
   "outputs": [],
   "source": [
    "import random\n",
    "from timeit import default_timer as timer\n",
    "import matplotlib.pyplot as plt\n",
    "import sys\n",
    "from operator import itemgetter"
   ]
  },
  {
   "attachments": {},
   "cell_type": "markdown",
   "metadata": {},
   "source": [
    "\n",
    "## Insertion sort\n",
    "\n",
    "L'insertion sort è un algoritmo di ordinamento semplice, basato sui confronti. Fa parte della categoria di algoritmi di ordinamento detti **in place** , ovvero ordina gli\n",
    "elementi di un array senza doverne creare uno di appoggio, risparmiando memoria. <br>\n",
    "Pur essendo molto meno efficiente di altri algoritmi più avanzati, ha alcuni vantaggi: \n",
    "\n",
    "+ semplice da implementare\n",
    "+ efficiente per insiemi di partenza che sono quasi ordinati\n",
    "\n",
    "### Descrizione dell'algoritmo\n",
    "\n",
    "L'insertion sort ordina al sequenza sul posto. Si assume che la sequenza da ordinare sia partizionata in una sottosequenza già ordinata, inizialmente composta da un elemento, e una ancora da ordinare. Il principio di funzionamento dell'algoritmo prevede che alla $k$-$esima$ iterazione, la sottosequenza di elementi ordinati sia lunga k. Ad ogni iterazione viene preso un elemento dall sottosequenza non ordinata e viene inserito nella posizione corretta nella sottosequenza ordinata.   \n",
    "La logica descritta sopra è alla base dell'invariante di ciclo di questo algoritmo: \n",
    "\n",
    ">   _All'inizio di ciascuna iterazione del ciclo for, la sottosequenza A[1..j-1]\n",
    ">   consiste degli elementi originali di A[1..j-1] ma ordinati in senso\n",
    ">   crescente_\n",
    "\n",
    "attaverso la quale è possibile verificare la correttezza dell'algoritmo\n",
    "\n",
    "### Analisi delle prestazioni\n",
    "\n",
    "Il caso ottimo per questo algoritmo è quello in cui la sequenza di partenza è già ordinata. In tal caso, l'algoritmo ha tempo di esecuzione lineare, ossia $\\theta(n)$, dove n è la lunghezza della sequenza. Infatti per poter dire che è effettivamente ordinato, l'insertion sort deve comunque analizzare tutti gli elementi. \n",
    "\n",
    "Il caso pessimo invece è quello in cui la sequenza risulta orinata al contrario. In questo caso, ogni iterazione dovrà scorrere e spostare ogni elemento della sottosequenza ordinata prima di poter inserire il primo elemento della sottosequenza non ordinata. Pertanto, in questo caso l'algoritmo ha complessità temporale quadratica ossia $\\theta(n^2)$.\n",
    "\n",
    "Anche il caso medio risulta di complessità quadratica, il che lo rende inutilizzabile per sequenze di grandi dimensioni.  \n",
    "\n",
    "\n"
   ]
  },
  {
   "cell_type": "code",
   "execution_count": 3,
   "metadata": {},
   "outputs": [],
   "source": [
    "def insertion_sort(array):\n",
    "\n",
    "    for step in range(1, len(array)):\n",
    "        key = array[step]\n",
    "        j = step - 1\n",
    "        \n",
    "        # Compare key with each element on the left of it until an element smaller than it is found\n",
    "        # For descending order, change key<array[j] to key>array[j].        \n",
    "        while j >= 0 and key < array[j]:\n",
    "            array[j + 1] = array[j]\n",
    "            j = j - 1\n",
    "        \n",
    "        # Place key at after the element just smaller than it.\n",
    "        array[j + 1] = key\n",
    "\n",
    "def insertion_sort_tuple(array):\n",
    "\n",
    "    for step in range(1, len(array)):\n",
    "        key = array[step]\n",
    "        j = step - 1\n",
    "        \n",
    "        # Compare key with each element on the left of it until an element smaller than it is found\n",
    "        # For descending order, change key<array[j] to key>array[j].        \n",
    "        while j >= 0 and key[0] < array[j][0]:\n",
    "            array[j + 1] = array[j]\n",
    "            j = j - 1\n",
    "        \n",
    "        # Place key at after the element just smaller than it.\n",
    "        array[j + 1] = key\n"
   ]
  },
  {
   "attachments": {},
   "cell_type": "markdown",
   "metadata": {},
   "source": [
    "## Quick sort\n",
    "\n",
    "Questo algoritmo, come l'insertion sort, è un algoritmo di ordinamento basato dui confronti e fa parte della categoria di algoritmi detti **in place**. Tuttavia, a differenza dell'insertion sort, non è un algoritmo **stabile**, ovvero non preserva l'ordine relativo degli elementi con chiave uguale. <br>\n",
    "\n",
    "### Descrizione dell'algoritmo\n",
    "\n",
    "E' un algoritmo di tipo **divide et impera**:\n",
    "\n",
    "+ divide: la sequenza da ordinare viene divisa in due sottosequenze\n",
    "+ impera: le due sottosequenze vengono ordinate ricorsivamente\n",
    "+ combina: le due sottosequenze ordinate vengono combinate per ottenere la sequenza ordinata\n",
    "\n",
    "\n",
    "L'idea alla base di questo algoritmo è la seguente: \n",
    "\n",
    ">_data un una sequenza di elementi, si sceglie un elemento detto **pivot**. Si riordinano gli elementi in modo tale che tutti gli elementi minori del pivot siano a sinistra di esso, e tutti gli elementi maggiori a destra. A questo punto, il pivot è nella posizione che avrà nella sequenza ordinata. Si ripete il procedimento per le due sottosequenze di elementi a sinistra e a destra del pivot._ <br>\n",
    "\n",
    "L'elemento pivot può essere scelto in diversi modi. In questo notebook è stato scelto il primo elemento della sequenza, ma è possibile scegliere anche l'ultimo, un elemento a caso, o il mediano. <br>\n",
    "\n",
    "### Analisi delle prestazioni\n",
    "Il tempo di esecuzione del quick sort dipende dal fatto che il partizionamento sia bialnciato o sbilanciato e ciò dipende dalla scelta del pivot.\n",
    "\n",
    "\n",
    "Il caso ottimo per questo algoritmo è quello in cui la sequenza da ordinare viene divisa in due sottosequenze di lunghezza uguale. In questo caso, l'algoritmo ha complessità lineare, ossia $\\theta(n log n)$, dove n è la lunghezza della sequenza. Infatti, in questo caso, il numero di confronti necessari per ordinare la sequenza è pari a $n log n$. <br>\n",
    "\n",
    "Il caso medio risulta di complessità lineare, il che lo rende un algoritmo molto efficiente anche per sequenze di grandi dimensioni.\n",
    "\n",
    "Il caso pessimo invece è quello in cui la sequenza viene divisa in due sottosequenze di lunghezza 1 e n-1. In questo caso, l'algoritmo ha complessità quadratica, ossia $\\theta(n^2)$, dove n è la lunghezza della sequenza. Infatti, in questo caso, il numero di confronti necessari per ordinare la sequenza è pari a $n^2$.\n",
    "\n",
    "\n",
    "Randomizzando il quick sort si ottiene un algoritmo che ha complessità attesa lineare anche nel caso pessimo. Questo è dovuto al fatto che, randomizzando la scelta del pivot, la probabilità che la sequenza venga divisa in due sottosequenze di lunghezza 1 e n-1 è molto bassa. <br>\n"
   ]
  },
  {
   "cell_type": "code",
   "execution_count": 4,
   "metadata": {},
   "outputs": [],
   "source": [
    "# function to find the partition position\n",
    "def partition(array, low, high):\n",
    "\n",
    "  # choose the rightmost element as pivot\n",
    "  pivot = array[high]\n",
    "\n",
    "  # pointer for greater element\n",
    "  i = low - 1\n",
    "\n",
    "  # traverse through all elements\n",
    "  # compare each element with pivot\n",
    "  for j in range(low, high):\n",
    "    if array[j] <= pivot:\n",
    "      # if element smaller than pivot is found\n",
    "      # swap it with the greater element pointed by i\n",
    "      i = i + 1\n",
    "\n",
    "      # swapping element at i with element at j\n",
    "      (array[i], array[j]) = (array[j], array[i])\n",
    "\n",
    "  # swap the pivot element with the greater element specified by i\n",
    "  (array[i + 1], array[high]) = (array[high], array[i + 1])\n",
    "\n",
    "  # return the position from where partition is done\n",
    "  return i + 1\n",
    "\n",
    "# function to perform quicksort\n",
    "def quick_sort(array, low, high):\n",
    "  if low < high:\n",
    "\n",
    "    # find pivot element such that\n",
    "    # element smaller than pivot are on the left\n",
    "    # element greater than pivot are on the right\n",
    "    pi = partition(array, low, high)\n",
    "\n",
    "    # recursive call on the left of pivot\n",
    "    quick_sort(array, low, pi - 1)\n",
    "\n",
    "    # recursive call on the right of pivot\n",
    "    quick_sort(array, pi + 1, high)\n",
    "\n",
    "\n",
    "def partition_tuple(array, low, high):\n",
    "  \n",
    "    # choose the rightmost element as pivot\n",
    "    pivot = array[high][0]\n",
    "  \n",
    "    # pointer for greater element\n",
    "    i = low - 1\n",
    "  \n",
    "    # traverse through all elements\n",
    "    # compare each element with pivot\n",
    "    for j in range(low, high):\n",
    "      if array[j][0] <= pivot:\n",
    "        # if element smaller than pivot is found\n",
    "        # swap it with the greater element pointed by i\n",
    "        i = i + 1\n",
    "  \n",
    "        # swapping element at i with element at j\n",
    "        (array[i], array[j]) = (array[j], array[i])\n",
    "  \n",
    "    # swap the pivot element with the greater element specified by i\n",
    "    (array[i + 1], array[high]) = (array[high], array[i + 1])\n",
    "  \n",
    "    # return the position from where partition is done\n",
    "    return i + 1\n",
    "\n",
    "def quick_sort_tuple(array, low, high):\n",
    "  if low < high:\n",
    "\n",
    "    # find pivot element such that\n",
    "    # element smaller than pivot are on the left\n",
    "    # element greater than pivot are on the right\n",
    "    pi = partition_tuple(array, low, high)\n",
    "\n",
    "    # recursive call on the left of pivot\n",
    "    quick_sort_tuple(array, low, pi - 1)\n",
    "\n",
    "    # recursive call on the right of pivot\n",
    "    quick_sort_tuple(array, pi + 1, high)\n",
    "\n",
    "    "
   ]
  },
  {
   "attachments": {},
   "cell_type": "markdown",
   "metadata": {},
   "source": [
    "## Funzioni usate per il confronto"
   ]
  },
  {
   "attachments": {},
   "cell_type": "markdown",
   "metadata": {},
   "source": [
    "\n",
    "### rand_list\n",
    "Funzione che genera una lista di numeri interi casuali di lunghezza n"
   ]
  },
  {
   "cell_type": "code",
   "execution_count": 5,
   "metadata": {},
   "outputs": [],
   "source": [
    "def rand_list(top_of_range, n):\n",
    "    return [random.randint(0, top_of_range) for _ in range(n)]\n",
    "\n",
    "def rand_list_tuple(top_of_range, n):\n",
    "    A = []\n",
    "    for _ in range(n):\n",
    "        tmp = (random.randint(0, top_of_range), random.randint(0, top_of_range))\n",
    "        A.append(tmp)\n",
    "    return A"
   ]
  },
  {
   "attachments": {},
   "cell_type": "markdown",
   "metadata": {},
   "source": [
    "### plot_results\n",
    "\n",
    "Funzione che genera un grafico a linee che mostra i tempi di esecuzione di insertion sort e quick sort su una lista di numeri casuali di lunghezza n. <br>\n",
    "La funzione usa la libreria matplotlib per generare il grafico."
   ]
  },
  {
   "cell_type": "code",
   "execution_count": 6,
   "metadata": {},
   "outputs": [],
   "source": [
    "def plot_results(x, y, labels):\n",
    "    for i in range(len(y)):\n",
    "        plt.plot(x, y[i], label=labels[i])\n",
    "    plt.xlabel('n')\n",
    "    plt.ylabel('time (s)')\n",
    "    plt.legend()\n",
    "    plt.show()"
   ]
  },
  {
   "attachments": {},
   "cell_type": "markdown",
   "metadata": {},
   "source": [
    "## Test di velocità \n",
    "\n",
    "Questo test confronta i due algoritmi dal punto di vista della velocità. attraverso la funzione **rand_list(top_of_range, n)** generiamo una lista di numeri casuali di lunghezza **n**. <br>\n",
    "In questo test andremo a ordinare un set di array di lunghezza variabile e generati casualmente, con entrambi gli algoritmi di ordinamento. L'obiettivo del test è vedere come si comportano l'insertion sort e il quick sort al variare della lunghezza dell'array. <br>\n",
    "\n",
    "La funzione **speed_test_unordered(n)** prende in input la lunghezza dell'array, genera un array a valori casuali di tale lunghezza e esegue entrambi gli algoritmi di ordinamento. La funzione ritorna un array conenente il tempo di esecuzione di entrambi gli algoritmi. <br>"
   ]
  },
  {
   "cell_type": "code",
   "execution_count": 7,
   "metadata": {},
   "outputs": [],
   "source": [
    "def speed_test_ordered(n):\n",
    "    A = [i for i in range(n)]\n",
    "    \n",
    "    #speed test per quick sort\n",
    "    start = timer()\n",
    "    size = len(A)\n",
    "    quick_sort(A.copy(), 0, size - 1)\n",
    "    end = timer()\n",
    "    quicksort_time = end - start\n",
    "\n",
    "    #speed test per insertion sort\n",
    "    start = timer()\n",
    "    insertion_sort(A.copy())\n",
    "    end = timer()\n",
    "    insertionSort_time = end - start\n",
    "    \n",
    "    return quicksort_time, insertionSort_time\n",
    " \n",
    "def speed_test_unordered(n):\n",
    "    A = rand_list(100, n)\n",
    "\n",
    "    start = timer()\n",
    "    size = len(A)\n",
    "    quick_sort(A.copy(), 0, size - 1)\n",
    "    end = timer()\n",
    "    quicksort_time = end - start\n",
    "\n",
    "    #speed test per insertion sort\n",
    "\n",
    "    start = timer()\n",
    "    insertion_sort(A.copy())\n",
    "    end = timer()\n",
    "    insertionSort_time = end - start\n",
    "    \n",
    "    return quicksort_time, insertionSort_time"
   ]
  },
  {
   "cell_type": "code",
   "execution_count": 8,
   "metadata": {},
   "outputs": [],
   "source": [
    "#lenghts = [5, 10, 20, 50, 100, 1000, 2000, 5000, 10000, 20000, 100000, 200000]\n",
    "lenghts = [5,10,20,50,100,1000,2000,5000,10000]\n",
    "quicksort_times = []\n",
    "insertionsort_times = []\n"
   ]
  },
  {
   "cell_type": "code",
   "execution_count": 9,
   "metadata": {},
   "outputs": [
    {
     "name": "stdout",
     "output_type": "stream",
     "text": [
      "\n",
      "Tempi quick sort:  [2.6099965907633305e-05, 1.699995482340455e-05, 2.9399991035461426e-05, 9.320001117885113e-05, 0.00018550001550465822, 0.003925000026356429, 0.0102319999714382, 0.029297899978701025, 0.0940720000071451]\n",
      "\n",
      "Tempi insertion sort:  [4.699977580457926e-06, 1.1700030881911516e-05, 2.4100008886307478e-05, 0.0001058999914675951, 0.00042559998109936714, 0.05625660001533106, 0.15738709998549893, 0.886893599992618, 3.2437676999834366]\n"
     ]
    },
    {
     "data": {
      "image/png": "[encoded data removed]",
      "text/plain": [
       "<Figure size 640x480 with 1 Axes>"
      ]
     },
     "metadata": {},
     "output_type": "display_data"
    }
   ],
   "source": [
    "\n",
    "for n in lenghts:\n",
    "    quicksort_time, insertionsort_time = speed_test_unordered(n)\n",
    "    quicksort_times.append(quicksort_time)\n",
    "    insertionsort_times.append(insertionsort_time)\n",
    "\n",
    "print(\"\\nTempi quick sort: \", quicksort_times)\n",
    "print(\"\\nTempi insertion sort: \", insertionsort_times)\n",
    "\n",
    "plot_results(lenghts, [quicksort_times, insertionsort_times], [\"quicksort\", \"insertionsort\"])\n",
    "\n"
   ]
  },
  {
   "attachments": {},
   "cell_type": "markdown",
   "metadata": {},
   "source": [
    "Di seguito è riportato il plot dei risultati dello speed_test_unordered, eseguito con array più grandi di quelli riportati sopra:\n",
    "\n",
    ">![plot con n max uguale a 200000](output.png \"plot con n max uguale a 200000\") \n",
    ">\n",
    ">Sulle ascisse è indicato il numero di elementi e sulle ordinate il tempo di esecuzione in secondi.\n",
    "\n",
    "Come previsto dalle analisi riportate sopra, l'insertion sort ha un andamento quadratico, mentre il quick sort mantiene un andamento lineare al crescere di n. Questo rende il quick sort decisamente migliore dell'insertion sort per n molto grandi, ma ciò non toglie che, per n piccole, l'insertion sort sia migliore. Infatti questo algoritmo risulta migliore se dobbiamo lavorare con array di piccole dimensioni e parzialmente ordinati "
   ]
  },
  {
   "attachments": {},
   "cell_type": "markdown",
   "metadata": {},
   "source": [
    "Vediamo cosa succede se, invece di un array ordinato, diamo in input un **array ordinato**:"
   ]
  },
  {
   "cell_type": "code",
   "execution_count": 10,
   "metadata": {},
   "outputs": [
    {
     "name": "stdout",
     "output_type": "stream",
     "text": [
      "\n",
      "Tempi quick sort:  [1.3299984857439995e-05, 1.999997766688466e-05, 6.030005170032382e-05, 0.0003431999939493835, 0.0007636999944224954, 0.007611299981363118, 0.029690199997276068, 0.07137479999801144]\n",
      "\n",
      "Tempi insertion sort:  [3.700028173625469e-06, 3.200024366378784e-06, 5.700043402612209e-06, 8.500006515532732e-06, 2.6900030206888914e-05, 9.650003630667925e-05, 0.00012009998317807913, 0.00013910001143813133]\n"
     ]
    },
    {
     "data": {
      "image/png": "[encoded data removed]",
      "text/plain": [
       "<Figure size 640x480 with 1 Axes>"
      ]
     },
     "metadata": {},
     "output_type": "display_data"
    }
   ],
   "source": [
    "lenghts = [5,10,20,50,100,200,500,1000]\n",
    "quicksort_times = []\n",
    "insertionsort_times = []\n",
    "\n",
    "for n in lenghts:\n",
    "    quicksort_time, insertionsort_time = speed_test_ordered(n)\n",
    "    quicksort_times.append(quicksort_time)\n",
    "    insertionsort_times.append(insertionsort_time)\n",
    "\n",
    "print(\"\\nTempi quick sort: \", quicksort_times)\n",
    "print(\"\\nTempi insertion sort: \", insertionsort_times)\n",
    "\n",
    "plot_results(lenghts, [quicksort_times, insertionsort_times], [\"quicksort\", \"insertionsort\"])"
   ]
  },
  {
   "attachments": {},
   "cell_type": "markdown",
   "metadata": {},
   "source": [
    "Come possiamo vedere dal grafico, con un array già ordinato, l'insertion sort si comporta molto meglio di quick sort, mantenendo un tempo di esecuzione lineare. \n",
    "Il quick sort mantiene un tempo di esecuzione $n^2$ nel caso peggiore, ovvero quando le partizioni hanno dimensione 1 e n-1. Se viene scelto come pivot il primo elemento, il caso peggiore si verifica proprio quando l'array è già ordinato."
   ]
  },
  {
   "attachments": {},
   "cell_type": "markdown",
   "metadata": {},
   "source": [
    "## Test di memoria\n",
    "\n",
    "Un altro parametro interessante da valutare è lo spazio usato in memoria dagli algoritmi per ordinare un array. <br>\n",
    "In questo test andremo a ordinare un set di array di lunghezza variabile e generati casualmente, con entrambi gli algoritmi di ordinamento. L'obiettivo del test è vedere, a parità di valori di input, come si comportano l'insertion sort e il quick sort dal punto di vista della memoria. <br>"
   ]
  },
  {
   "cell_type": "code",
   "execution_count": 11,
   "metadata": {},
   "outputs": [
    {
     "name": "stdout",
     "output_type": "stream",
     "text": [
      "\n",
      "Memoria occupata da quick sort:  16\n",
      "\n",
      "Memoria occupata da insertion sort:  16\n"
     ]
    }
   ],
   "source": [
    "def mem_test(n):\n",
    "    A = rand_list(100, n)\n",
    "    size = len(A)\n",
    "    return sys.getsizeof(quick_sort(A.copy(), 0, size - 1)), sys.getsizeof(insertion_sort(A.copy()))\n",
    "\n",
    "test = mem_test(1000)\n",
    "print(\"\\nMemoria occupata da quick sort: \", test[0])\n",
    "print(\"\\nMemoria occupata da insertion sort: \", test[1])"
   ]
  },
  {
   "attachments": {},
   "cell_type": "markdown",
   "metadata": {},
   "source": [
    "Grazie a questo test vediamo che, dal punto di vista della memoria, i due algoritmi sono analoghi."
   ]
  },
  {
   "attachments": {},
   "cell_type": "markdown",
   "metadata": {},
   "source": [
    "## Test di stabilità\n",
    "\n",
    "Un altro parametro interessante da valutare è la stabilità degli algoritmi. Un algoritmo di ordinamento è detto stabile se preserva l'ordine relativo degli elementi con chiave uguale. <br>\n",
    "Per verificare questa proprietà andremo a utilizzare gli algoritmi sopra riportati (quick_sort_tuple e insertion_sort_tuple) che ordinano una lista di coppie (key, value) in base alla chiave, con gli algoritmi di ordinamento in esame. <br>\n",
    "Python mette a disposizione il metodo **sorted()** che ordina una lista di elementi e che, nel caso in cui due elementi siano uguali, mantiene l'ordine relativo tra di essi (**sorted è stabile**). <br>\n",
    "\n",
    "Per verificare la stabilità degli algoritmi, andremo a confrontare i risultati ottenuti con gli algoritmi di ordinamento sopra riportati con quelli ottenuti con il metodo sorted(): Se gli array ottenuti coincidono allora l'algoritmo è stabile. <br>"
   ]
  },
  {
   "cell_type": "code",
   "execution_count": 12,
   "metadata": {},
   "outputs": [
    {
     "name": "stdout",
     "output_type": "stream",
     "text": [
      "\n",
      "quick sort stabile:  False\n",
      "\n",
      "insertion sort stabile:  True\n"
     ]
    }
   ],
   "source": [
    "A = rand_list_tuple(1000, 100)\n",
    "size = len(A)\n",
    "\n",
    "quick_copy = A.copy()        # ordinato con quick sort\n",
    "insertion_copy = A.copy()        # ordinato con insertion sort\n",
    "sorted_copy = A.copy()        # ordinato con sorted\n",
    "\n",
    "quick_sort_tuple(quick_copy, 0, size - 1)\n",
    "insertion_sort_tuple(insertion_copy)\n",
    "sorted_copy = sorted(sorted_copy, key = itemgetter(0))\n",
    "\n",
    "\n",
    "print( \"\\nquick sort stabile: \", quick_copy == sorted_copy )\n",
    "print( \"\\ninsertion sort stabile: \", insertion_copy == sorted_copy )"
   ]
  },
  {
   "attachments": {},
   "cell_type": "markdown",
   "metadata": {},
   "source": [
    "Come ci aspettavamo, il **quick sort risulta non stabile**, mentre l'**insertion sort risulta stabile**. <br>"
   ]
  }
 ],
 "metadata": {
  "kernelspec": {
   "display_name": "Python 3",
   "language": "python",
   "name": "python3"
  },
  "language_info": {
   "codemirror_mode": {
    "name": "ipython",
    "version": 3
   },
   "file_extension": ".py",
   "mimetype": "text/x-python",
   "name": "python",
   "nbconvert_exporter": "python",
   "pygments_lexer": "ipython3",
   "version": "3.11.2"
  },
  "orig_nbformat": 4
 },
 "nbformat": 4,
 "nbformat_minor": 2
}
